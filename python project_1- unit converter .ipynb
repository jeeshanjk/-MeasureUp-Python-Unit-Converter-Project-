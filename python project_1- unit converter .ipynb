{
 "cells": [
  {
   "cell_type": "code",
   "execution_count": 87,
   "id": "d427a7b5-9cff-4a54-82e6-ea19f5bc392e",
   "metadata": {},
   "outputs": [
    {
     "name": "stdin",
     "output_type": "stream",
     "text": [
      "Enter Starting Unit of Measurement(inches, feet, yards:  in\n",
      "Enter Unit of Measurement to convert to (inches, feet, yards):  yd\n",
      "Enter Starting measurment in inches: 36\n"
     ]
    },
    {
     "name": "stdout",
     "output_type": "stream",
     "text": [
      "Result:36 Inches = 1.0 Yards\n"
     ]
    }
   ],
   "source": [
    "convert_from = input(\"Enter Starting Unit of Measurement(inches, feet, yards: \")\n",
    "convert_to = input(\"Enter Unit of Measurement to convert to (inches, feet, yards): \")\n",
    "\n",
    "if convert_from.lower() in [\"inches\",\"in\",\"inch\"]:\n",
    "    number_of_inches = int(input(\"Enter Starting measurment in inches:\"))\n",
    "    if convert_to.lower() in [\"feet\", \"foot\", \"ft\"]:\n",
    "        print(\"Result:\" + str(number_of_inches)+\" \"  +\"Inches = \" + str(round(number_of_inches/12,2) )+\" \"   + \"Feet\")\n",
    "    elif convert_to.lower() in [\"yards\", \"yard\",\"yds\",\"yd\"]:\n",
    "        print(\"Result:\" + str(number_of_inches)+\" \"  +\"Inches = \" + str(round(number_of_inches/36,2))+\" \"   + \"Yards\")\n",
    "    else:\n",
    "        print(\"Your input was wrong\")\n",
    "\n",
    "elif convert_from.lower() in [\"feet\", \"foot\", \"ft\"]:\n",
    "    number_of_feet = int(input(\"Enter Starting measurment in feet:\"))\n",
    "    if convert_to.lower() in [\"inches\",\"in\",\"inch\"]:\n",
    "        print(\"Result:\" + str(number_of_feet)+\" \"  +\"Feet = \" + str(round(number_of_feet*12,2))+\" \"   + \"Inches\")\n",
    "    elif convert_to.lower() in [\"yards\", \"yard\",\"yds\",\"yd\"]:\n",
    "        print(\"Result:\" + str(number_of_feet)+\" \"  +\"Feet = \" + str(round(number_of_feet*3,2))+\" \"   + \"Yards\")\n",
    "    else:\n",
    "        print(\"Your input was wrong\")\n",
    "        \n",
    "elif convert_from.lower() in [\"yards\", \"yard\",\"yds\",\"yd\"]:\n",
    "    number_of_yards =int( input(\"Enter Starting measurment in yards:\"))\n",
    "    if convert_to.lower() in [\"inches\",\"in\",\"inch\"]:\n",
    "        print(\"Result:\" + str(number_of_yards)+\" \"  +\"Yards = \" + str(round(number_of_yards*36,2))+\" \"   + \"Inches\")\n",
    "    elif convert_to.lower() in [\"feet\", \"foot\", \"ft\"]:\n",
    "        print(\"Result:\" + str(number_of_yards)+\" \"  +\"Yards = \" + str(round(number_of_yards*3,2))+\" \"   + \"Feet\")\n",
    "    else:\n",
    "        print(\"Your input was wrong\")\n",
    "else:\n",
    "     print(\"Please Enter either Inches, Feet or Yards.\")"
   ]
  },
  {
   "cell_type": "code",
   "execution_count": null,
   "id": "93f37f23-1439-498d-828a-20b3526f476a",
   "metadata": {},
   "outputs": [],
   "source": [
    "\n"
   ]
  },
  {
   "cell_type": "code",
   "execution_count": null,
   "id": "83b3122f-24d3-4608-9594-e3818f224a63",
   "metadata": {},
   "outputs": [],
   "source": []
  },
  {
   "cell_type": "code",
   "execution_count": null,
   "id": "7190001e-ceb7-484e-931d-f472f0649f5b",
   "metadata": {},
   "outputs": [],
   "source": []
  }
 ],
 "metadata": {
  "kernelspec": {
   "display_name": "Python 3 (ipykernel)",
   "language": "python",
   "name": "python3"
  },
  "language_info": {
   "codemirror_mode": {
    "name": "ipython",
    "version": 3
   },
   "file_extension": ".py",
   "mimetype": "text/x-python",
   "name": "python",
   "nbconvert_exporter": "python",
   "pygments_lexer": "ipython3",
   "version": "3.11.7"
  }
 },
 "nbformat": 4,
 "nbformat_minor": 5
}
